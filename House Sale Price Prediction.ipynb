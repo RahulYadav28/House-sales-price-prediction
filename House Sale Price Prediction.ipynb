{
 "cells": [
  {
   "cell_type": "code",
   "execution_count": 1,
   "id": "054be946",
   "metadata": {},
   "outputs": [],
   "source": [
    "#House sale Data Predication\n",
    "#Importing libraries\n",
    "#If error is shown install required library\n",
    "import numpy as np\n",
    "import pandas as pd\n",
    "import matplotlib.pyplot as plt\n",
    "import seaborn as sns\n",
    "from sklearn.preprocessing import LabelEncoder\n",
    "from sklearn.model_selection import train_test_split\n",
    "from xgboost import XGBRegressor \n",
    "from sklearn import metrics"
   ]
  },
  {
   "cell_type": "code",
   "execution_count": 41,
   "id": "27f555e9",
   "metadata": {},
   "outputs": [],
   "source": [
    "house_sale = pd.read_csv('house_data.csv')# Take data from kaggle and put directory link"
   ]
  },
  {
   "cell_type": "code",
   "execution_count": 42,
   "id": "23ef6def",
   "metadata": {},
   "outputs": [
    {
     "data": {
      "text/html": [
       "<div>\n",
       "<style scoped>\n",
       "    .dataframe tbody tr th:only-of-type {\n",
       "        vertical-align: middle;\n",
       "    }\n",
       "\n",
       "    .dataframe tbody tr th {\n",
       "        vertical-align: top;\n",
       "    }\n",
       "\n",
       "    .dataframe thead th {\n",
       "        text-align: right;\n",
       "    }\n",
       "</style>\n",
       "<table border=\"1\" class=\"dataframe\">\n",
       "  <thead>\n",
       "    <tr style=\"text-align: right;\">\n",
       "      <th></th>\n",
       "      <th>id</th>\n",
       "      <th>date</th>\n",
       "      <th>price</th>\n",
       "      <th>bedrooms</th>\n",
       "      <th>bathrooms</th>\n",
       "      <th>sqft_living</th>\n",
       "      <th>sqft_lot</th>\n",
       "      <th>floors</th>\n",
       "      <th>Parking_type</th>\n",
       "      <th>condition</th>\n",
       "      <th>grade</th>\n",
       "      <th>sqft_above</th>\n",
       "      <th>sqft_basement</th>\n",
       "      <th>City_type</th>\n",
       "      <th>zipcode</th>\n",
       "      <th>lat</th>\n",
       "      <th>long</th>\n",
       "    </tr>\n",
       "  </thead>\n",
       "  <tbody>\n",
       "    <tr>\n",
       "      <th>0</th>\n",
       "      <td>7129300520</td>\n",
       "      <td>20141013T000000</td>\n",
       "      <td>221900</td>\n",
       "      <td>3</td>\n",
       "      <td>1.00</td>\n",
       "      <td>1180.0</td>\n",
       "      <td>5650.0</td>\n",
       "      <td>1.0</td>\n",
       "      <td>Open</td>\n",
       "      <td>3</td>\n",
       "      <td>7.0</td>\n",
       "      <td>1180.0</td>\n",
       "      <td>0.0</td>\n",
       "      <td>CAT B</td>\n",
       "      <td>98178</td>\n",
       "      <td>47.5112</td>\n",
       "      <td>-122.257</td>\n",
       "    </tr>\n",
       "    <tr>\n",
       "      <th>1</th>\n",
       "      <td>6414100192</td>\n",
       "      <td>20141209T000000</td>\n",
       "      <td>538000</td>\n",
       "      <td>3</td>\n",
       "      <td>2.25</td>\n",
       "      <td>2570.0</td>\n",
       "      <td>7242.0</td>\n",
       "      <td>2.0</td>\n",
       "      <td>Not Provided</td>\n",
       "      <td>3</td>\n",
       "      <td>7.0</td>\n",
       "      <td>2170.0</td>\n",
       "      <td>400.0</td>\n",
       "      <td>CAT B</td>\n",
       "      <td>98125</td>\n",
       "      <td>47.7210</td>\n",
       "      <td>-122.319</td>\n",
       "    </tr>\n",
       "    <tr>\n",
       "      <th>2</th>\n",
       "      <td>5631500400</td>\n",
       "      <td>20150225T000000</td>\n",
       "      <td>180000</td>\n",
       "      <td>2</td>\n",
       "      <td>1.00</td>\n",
       "      <td>770.0</td>\n",
       "      <td>10000.0</td>\n",
       "      <td>1.0</td>\n",
       "      <td>Not Provided</td>\n",
       "      <td>3</td>\n",
       "      <td>6.0</td>\n",
       "      <td>770.0</td>\n",
       "      <td>0.0</td>\n",
       "      <td>CAT A</td>\n",
       "      <td>98028</td>\n",
       "      <td>47.7379</td>\n",
       "      <td>-122.233</td>\n",
       "    </tr>\n",
       "    <tr>\n",
       "      <th>3</th>\n",
       "      <td>2487200875</td>\n",
       "      <td>20141209T000000</td>\n",
       "      <td>604000</td>\n",
       "      <td>4</td>\n",
       "      <td>3.00</td>\n",
       "      <td>1960.0</td>\n",
       "      <td>5000.0</td>\n",
       "      <td>1.0</td>\n",
       "      <td>Covered</td>\n",
       "      <td>5</td>\n",
       "      <td>7.0</td>\n",
       "      <td>1050.0</td>\n",
       "      <td>910.0</td>\n",
       "      <td>CAT B</td>\n",
       "      <td>98136</td>\n",
       "      <td>47.5208</td>\n",
       "      <td>-122.393</td>\n",
       "    </tr>\n",
       "    <tr>\n",
       "      <th>4</th>\n",
       "      <td>1954400510</td>\n",
       "      <td>20150218T000000</td>\n",
       "      <td>510000</td>\n",
       "      <td>3</td>\n",
       "      <td>2.00</td>\n",
       "      <td>1680.0</td>\n",
       "      <td>8080.0</td>\n",
       "      <td>1.0</td>\n",
       "      <td>Not Provided</td>\n",
       "      <td>3</td>\n",
       "      <td>8.0</td>\n",
       "      <td>1680.0</td>\n",
       "      <td>0.0</td>\n",
       "      <td>CAT B</td>\n",
       "      <td>98074</td>\n",
       "      <td>47.6168</td>\n",
       "      <td>-122.045</td>\n",
       "    </tr>\n",
       "  </tbody>\n",
       "</table>\n",
       "</div>"
      ],
      "text/plain": [
       "           id             date   price  bedrooms  bathrooms  sqft_living  \\\n",
       "0  7129300520  20141013T000000  221900         3       1.00       1180.0   \n",
       "1  6414100192  20141209T000000  538000         3       2.25       2570.0   \n",
       "2  5631500400  20150225T000000  180000         2       1.00        770.0   \n",
       "3  2487200875  20141209T000000  604000         4       3.00       1960.0   \n",
       "4  1954400510  20150218T000000  510000         3       2.00       1680.0   \n",
       "\n",
       "   sqft_lot  floors  Parking_type  condition  grade  sqft_above  \\\n",
       "0    5650.0     1.0          Open          3    7.0      1180.0   \n",
       "1    7242.0     2.0  Not Provided          3    7.0      2170.0   \n",
       "2   10000.0     1.0  Not Provided          3    6.0       770.0   \n",
       "3    5000.0     1.0       Covered          5    7.0      1050.0   \n",
       "4    8080.0     1.0  Not Provided          3    8.0      1680.0   \n",
       "\n",
       "   sqft_basement City_type  zipcode      lat     long  \n",
       "0            0.0     CAT B    98178  47.5112 -122.257  \n",
       "1          400.0     CAT B    98125  47.7210 -122.319  \n",
       "2            0.0     CAT A    98028  47.7379 -122.233  \n",
       "3          910.0     CAT B    98136  47.5208 -122.393  \n",
       "4            0.0     CAT B    98074  47.6168 -122.045  "
      ]
     },
     "execution_count": 42,
     "metadata": {},
     "output_type": "execute_result"
    }
   ],
   "source": [
    "house_sale.head()"
   ]
  },
  {
   "cell_type": "code",
   "execution_count": null,
   "id": "a04c54a4",
   "metadata": {},
   "outputs": [],
   "source": []
  },
  {
   "cell_type": "code",
   "execution_count": 43,
   "id": "c7028f04",
   "metadata": {},
   "outputs": [
    {
     "data": {
      "text/plain": [
       "(21613, 17)"
      ]
     },
     "execution_count": 43,
     "metadata": {},
     "output_type": "execute_result"
    }
   ],
   "source": [
    "house_sale.shape"
   ]
  },
  {
   "cell_type": "code",
   "execution_count": 44,
   "id": "b7795a38",
   "metadata": {},
   "outputs": [
    {
     "name": "stdout",
     "output_type": "stream",
     "text": [
      "<class 'pandas.core.frame.DataFrame'>\n",
      "RangeIndex: 21613 entries, 0 to 21612\n",
      "Data columns (total 17 columns):\n",
      " #   Column         Non-Null Count  Dtype  \n",
      "---  ------         --------------  -----  \n",
      " 0   id             21613 non-null  int64  \n",
      " 1   date           21613 non-null  object \n",
      " 2   price          21613 non-null  int64  \n",
      " 3   bedrooms       21613 non-null  int64  \n",
      " 4   bathrooms      21610 non-null  float64\n",
      " 5   sqft_living    21594 non-null  float64\n",
      " 6   sqft_lot       21595 non-null  float64\n",
      " 7   floors         21613 non-null  float64\n",
      " 8   Parking_type   21613 non-null  object \n",
      " 9   condition      21613 non-null  int64  \n",
      " 10  grade          21612 non-null  float64\n",
      " 11  sqft_above     21593 non-null  float64\n",
      " 12  sqft_basement  21592 non-null  float64\n",
      " 13  City_type      21613 non-null  object \n",
      " 14  zipcode        21613 non-null  int64  \n",
      " 15  lat            21613 non-null  float64\n",
      " 16  long           21613 non-null  float64\n",
      "dtypes: float64(9), int64(5), object(3)\n",
      "memory usage: 2.8+ MB\n"
     ]
    }
   ],
   "source": [
    "house_sale.info()"
   ]
  },
  {
   "cell_type": "code",
   "execution_count": 45,
   "id": "b7393100",
   "metadata": {},
   "outputs": [
    {
     "data": {
      "text/plain": [
       "id                0\n",
       "date              0\n",
       "price             0\n",
       "bedrooms          0\n",
       "bathrooms         3\n",
       "sqft_living      19\n",
       "sqft_lot         18\n",
       "floors            0\n",
       "Parking_type      0\n",
       "condition         0\n",
       "grade             1\n",
       "sqft_above       20\n",
       "sqft_basement    21\n",
       "City_type         0\n",
       "zipcode           0\n",
       "lat               0\n",
       "long              0\n",
       "dtype: int64"
      ]
     },
     "execution_count": 45,
     "metadata": {},
     "output_type": "execute_result"
    }
   ],
   "source": [
    "house_sale.isnull().sum()# Find null data in each column"
   ]
  },
  {
   "cell_type": "code",
   "execution_count": 48,
   "id": "0f9f3c91",
   "metadata": {},
   "outputs": [],
   "source": [
    "house_sale['sqft_living'].fillna(house_sale['sqft_living'].mean(), inplace=True)#replace Null Values with mean value of other data respective column\n",
    "house_sale['sqft_lot'].fillna(house_sale['sqft_lot'].mean(), inplace=True)\n",
    "house_sale['sqft_above'].fillna(house_sale['sqft_above'].mean(), inplace=True)\n",
    "house_sale['sqft_basement'].fillna(house_sale['sqft_basement'].mean(), inplace=True)\n",
    "house_sale['bathrooms'].fillna(house_sale['bathrooms'].mean(), inplace=True)\n",
    "house_sale['grade'].fillna(house_sale['grade'].mean(), inplace=True)"
   ]
  },
  {
   "cell_type": "code",
   "execution_count": 49,
   "id": "63cbd837",
   "metadata": {},
   "outputs": [
    {
     "data": {
      "text/plain": [
       "id               0\n",
       "date             0\n",
       "price            0\n",
       "bedrooms         0\n",
       "bathrooms        0\n",
       "sqft_living      0\n",
       "sqft_lot         0\n",
       "floors           0\n",
       "Parking_type     0\n",
       "condition        0\n",
       "grade            0\n",
       "sqft_above       0\n",
       "sqft_basement    0\n",
       "City_type        0\n",
       "zipcode          0\n",
       "lat              0\n",
       "long             0\n",
       "dtype: int64"
      ]
     },
     "execution_count": 49,
     "metadata": {},
     "output_type": "execute_result"
    }
   ],
   "source": [
    "house_sale.isnull().sum()#check data again. No null data found"
   ]
  },
  {
   "cell_type": "code",
   "execution_count": 50,
   "id": "b8b98550",
   "metadata": {},
   "outputs": [
    {
     "data": {
      "text/html": [
       "<div>\n",
       "<style scoped>\n",
       "    .dataframe tbody tr th:only-of-type {\n",
       "        vertical-align: middle;\n",
       "    }\n",
       "\n",
       "    .dataframe tbody tr th {\n",
       "        vertical-align: top;\n",
       "    }\n",
       "\n",
       "    .dataframe thead th {\n",
       "        text-align: right;\n",
       "    }\n",
       "</style>\n",
       "<table border=\"1\" class=\"dataframe\">\n",
       "  <thead>\n",
       "    <tr style=\"text-align: right;\">\n",
       "      <th></th>\n",
       "      <th>id</th>\n",
       "      <th>price</th>\n",
       "      <th>bedrooms</th>\n",
       "      <th>bathrooms</th>\n",
       "      <th>sqft_living</th>\n",
       "      <th>sqft_lot</th>\n",
       "      <th>floors</th>\n",
       "      <th>condition</th>\n",
       "      <th>grade</th>\n",
       "      <th>sqft_above</th>\n",
       "      <th>sqft_basement</th>\n",
       "      <th>zipcode</th>\n",
       "      <th>lat</th>\n",
       "      <th>long</th>\n",
       "    </tr>\n",
       "  </thead>\n",
       "  <tbody>\n",
       "    <tr>\n",
       "      <th>count</th>\n",
       "      <td>2.161300e+04</td>\n",
       "      <td>2.161300e+04</td>\n",
       "      <td>21613.000000</td>\n",
       "      <td>21613.000000</td>\n",
       "      <td>21613.000000</td>\n",
       "      <td>2.161300e+04</td>\n",
       "      <td>21613.000000</td>\n",
       "      <td>21613.000000</td>\n",
       "      <td>21613.000000</td>\n",
       "      <td>21613.000000</td>\n",
       "      <td>21613.000000</td>\n",
       "      <td>21613.000000</td>\n",
       "      <td>21613.000000</td>\n",
       "      <td>21613.000000</td>\n",
       "    </tr>\n",
       "    <tr>\n",
       "      <th>mean</th>\n",
       "      <td>4.580302e+09</td>\n",
       "      <td>5.401822e+05</td>\n",
       "      <td>3.370842</td>\n",
       "      <td>2.114808</td>\n",
       "      <td>2079.952765</td>\n",
       "      <td>1.510068e+04</td>\n",
       "      <td>1.494309</td>\n",
       "      <td>3.409430</td>\n",
       "      <td>7.656904</td>\n",
       "      <td>1788.274209</td>\n",
       "      <td>291.649917</td>\n",
       "      <td>98077.939805</td>\n",
       "      <td>47.560053</td>\n",
       "      <td>-122.213896</td>\n",
       "    </tr>\n",
       "    <tr>\n",
       "      <th>std</th>\n",
       "      <td>2.876566e+09</td>\n",
       "      <td>3.673622e+05</td>\n",
       "      <td>0.930062</td>\n",
       "      <td>0.770050</td>\n",
       "      <td>917.859458</td>\n",
       "      <td>4.139595e+04</td>\n",
       "      <td>0.539989</td>\n",
       "      <td>0.650743</td>\n",
       "      <td>1.175450</td>\n",
       "      <td>827.700462</td>\n",
       "      <td>442.443738</td>\n",
       "      <td>53.505026</td>\n",
       "      <td>0.138564</td>\n",
       "      <td>0.140828</td>\n",
       "    </tr>\n",
       "    <tr>\n",
       "      <th>min</th>\n",
       "      <td>1.000102e+06</td>\n",
       "      <td>7.500000e+04</td>\n",
       "      <td>0.000000</td>\n",
       "      <td>0.000000</td>\n",
       "      <td>290.000000</td>\n",
       "      <td>5.200000e+02</td>\n",
       "      <td>1.000000</td>\n",
       "      <td>1.000000</td>\n",
       "      <td>1.000000</td>\n",
       "      <td>290.000000</td>\n",
       "      <td>0.000000</td>\n",
       "      <td>98001.000000</td>\n",
       "      <td>47.155900</td>\n",
       "      <td>-122.519000</td>\n",
       "    </tr>\n",
       "    <tr>\n",
       "      <th>25%</th>\n",
       "      <td>2.123049e+09</td>\n",
       "      <td>3.219500e+05</td>\n",
       "      <td>3.000000</td>\n",
       "      <td>1.750000</td>\n",
       "      <td>1430.000000</td>\n",
       "      <td>5.042000e+03</td>\n",
       "      <td>1.000000</td>\n",
       "      <td>3.000000</td>\n",
       "      <td>7.000000</td>\n",
       "      <td>1190.000000</td>\n",
       "      <td>0.000000</td>\n",
       "      <td>98033.000000</td>\n",
       "      <td>47.471000</td>\n",
       "      <td>-122.328000</td>\n",
       "    </tr>\n",
       "    <tr>\n",
       "      <th>50%</th>\n",
       "      <td>3.904930e+09</td>\n",
       "      <td>4.500000e+05</td>\n",
       "      <td>3.000000</td>\n",
       "      <td>2.250000</td>\n",
       "      <td>1910.000000</td>\n",
       "      <td>7.620000e+03</td>\n",
       "      <td>1.500000</td>\n",
       "      <td>3.000000</td>\n",
       "      <td>7.000000</td>\n",
       "      <td>1560.000000</td>\n",
       "      <td>0.000000</td>\n",
       "      <td>98065.000000</td>\n",
       "      <td>47.571800</td>\n",
       "      <td>-122.230000</td>\n",
       "    </tr>\n",
       "    <tr>\n",
       "      <th>75%</th>\n",
       "      <td>7.308900e+09</td>\n",
       "      <td>6.450000e+05</td>\n",
       "      <td>4.000000</td>\n",
       "      <td>2.500000</td>\n",
       "      <td>2550.000000</td>\n",
       "      <td>1.070800e+04</td>\n",
       "      <td>2.000000</td>\n",
       "      <td>4.000000</td>\n",
       "      <td>8.000000</td>\n",
       "      <td>2210.000000</td>\n",
       "      <td>560.000000</td>\n",
       "      <td>98118.000000</td>\n",
       "      <td>47.678000</td>\n",
       "      <td>-122.125000</td>\n",
       "    </tr>\n",
       "    <tr>\n",
       "      <th>max</th>\n",
       "      <td>9.900000e+09</td>\n",
       "      <td>7.700000e+06</td>\n",
       "      <td>33.000000</td>\n",
       "      <td>8.000000</td>\n",
       "      <td>13540.000000</td>\n",
       "      <td>1.651359e+06</td>\n",
       "      <td>3.500000</td>\n",
       "      <td>5.000000</td>\n",
       "      <td>13.000000</td>\n",
       "      <td>9410.000000</td>\n",
       "      <td>4820.000000</td>\n",
       "      <td>98199.000000</td>\n",
       "      <td>47.777600</td>\n",
       "      <td>-121.315000</td>\n",
       "    </tr>\n",
       "  </tbody>\n",
       "</table>\n",
       "</div>"
      ],
      "text/plain": [
       "                 id         price      bedrooms     bathrooms   sqft_living  \\\n",
       "count  2.161300e+04  2.161300e+04  21613.000000  21613.000000  21613.000000   \n",
       "mean   4.580302e+09  5.401822e+05      3.370842      2.114808   2079.952765   \n",
       "std    2.876566e+09  3.673622e+05      0.930062      0.770050    917.859458   \n",
       "min    1.000102e+06  7.500000e+04      0.000000      0.000000    290.000000   \n",
       "25%    2.123049e+09  3.219500e+05      3.000000      1.750000   1430.000000   \n",
       "50%    3.904930e+09  4.500000e+05      3.000000      2.250000   1910.000000   \n",
       "75%    7.308900e+09  6.450000e+05      4.000000      2.500000   2550.000000   \n",
       "max    9.900000e+09  7.700000e+06     33.000000      8.000000  13540.000000   \n",
       "\n",
       "           sqft_lot        floors     condition         grade    sqft_above  \\\n",
       "count  2.161300e+04  21613.000000  21613.000000  21613.000000  21613.000000   \n",
       "mean   1.510068e+04      1.494309      3.409430      7.656904   1788.274209   \n",
       "std    4.139595e+04      0.539989      0.650743      1.175450    827.700462   \n",
       "min    5.200000e+02      1.000000      1.000000      1.000000    290.000000   \n",
       "25%    5.042000e+03      1.000000      3.000000      7.000000   1190.000000   \n",
       "50%    7.620000e+03      1.500000      3.000000      7.000000   1560.000000   \n",
       "75%    1.070800e+04      2.000000      4.000000      8.000000   2210.000000   \n",
       "max    1.651359e+06      3.500000      5.000000     13.000000   9410.000000   \n",
       "\n",
       "       sqft_basement       zipcode           lat          long  \n",
       "count   21613.000000  21613.000000  21613.000000  21613.000000  \n",
       "mean      291.649917  98077.939805     47.560053   -122.213896  \n",
       "std       442.443738     53.505026      0.138564      0.140828  \n",
       "min         0.000000  98001.000000     47.155900   -122.519000  \n",
       "25%         0.000000  98033.000000     47.471000   -122.328000  \n",
       "50%         0.000000  98065.000000     47.571800   -122.230000  \n",
       "75%       560.000000  98118.000000     47.678000   -122.125000  \n",
       "max      4820.000000  98199.000000     47.777600   -121.315000  "
      ]
     },
     "execution_count": 50,
     "metadata": {},
     "output_type": "execute_result"
    }
   ],
   "source": [
    "house_sale.describe() # statistics of all numerical data column "
   ]
  },
  {
   "cell_type": "code",
   "execution_count": 52,
   "id": "496de9b1",
   "metadata": {},
   "outputs": [
    {
     "data": {
      "text/plain": [
       "Open            8624\n",
       "Not Provided    5273\n",
       "Covered         4356\n",
       "No Parking      3360\n",
       "Name: Parking_type, dtype: int64"
      ]
     },
     "execution_count": 52,
     "metadata": {},
     "output_type": "execute_result"
    }
   ],
   "source": [
    "house_sale['Parking_type'].value_counts()#checking same type of words"
   ]
  },
  {
   "cell_type": "code",
   "execution_count": 53,
   "id": "d5cbdeec",
   "metadata": {},
   "outputs": [],
   "source": [
    "house_sale.replace({'Parking_type': {'No Parking':'Not Provided'}}, inplace=True)#replacing same type of words with one of them"
   ]
  },
  {
   "cell_type": "code",
   "execution_count": 54,
   "id": "07ec6e87",
   "metadata": {},
   "outputs": [
    {
     "data": {
      "text/plain": [
       "Not Provided    8633\n",
       "Open            8624\n",
       "Covered         4356\n",
       "Name: Parking_type, dtype: int64"
      ]
     },
     "execution_count": 54,
     "metadata": {},
     "output_type": "execute_result"
    }
   ],
   "source": [
    "house_sale['Parking_type'].value_counts()"
   ]
  },
  {
   "cell_type": "code",
   "execution_count": 55,
   "id": "c1ae0255",
   "metadata": {},
   "outputs": [
    {
     "data": {
      "text/plain": [
       "CAT B    8472\n",
       "CAT A    7613\n",
       "CAT C    5528\n",
       "Name: City_type, dtype: int64"
      ]
     },
     "execution_count": 55,
     "metadata": {},
     "output_type": "execute_result"
    }
   ],
   "source": [
    "house_sale['City_type'].value_counts()"
   ]
  },
  {
   "cell_type": "code",
   "execution_count": 56,
   "id": "c69e1217",
   "metadata": {},
   "outputs": [],
   "source": [
    "encoder = LabelEncoder()#changing the object datatype into integer data type because ML does not allow regression on object data type"
   ]
  },
  {
   "cell_type": "code",
   "execution_count": 57,
   "id": "b16a38de",
   "metadata": {},
   "outputs": [],
   "source": [
    "house_sale['Parking_type'] = encoder.fit_transform(house_sale['Parking_type'])#changing object data type into integer data type\n",
    "\n",
    "house_sale['City_type'] = encoder.fit_transform(house_sale['City_type'])"
   ]
  },
  {
   "cell_type": "code",
   "execution_count": 58,
   "id": "9ead17a9",
   "metadata": {},
   "outputs": [],
   "source": [
    "sns.set() #High-level interface for drawing attractive and informative statistical graphics.\n"
   ]
  },
  {
   "cell_type": "code",
   "execution_count": 59,
   "id": "11c51c3e",
   "metadata": {},
   "outputs": [
    {
     "name": "stderr",
     "output_type": "stream",
     "text": [
      "E:\\anaconda\\lib\\site-packages\\seaborn\\distributions.py:2557: FutureWarning: `distplot` is a deprecated function and will be removed in a future version. Please adapt your code to use either `displot` (a figure-level function with similar flexibility) or `histplot` (an axes-level function for histograms).\n",
      "  warnings.warn(msg, FutureWarning)\n"
     ]
    },
    {
     "data": {
      "image/png": "[encoded data removed]",
      "text/plain": [
       "<Figure size 432x432 with 1 Axes>"
      ]
     },
     "metadata": {},
     "output_type": "display_data"
    }
   ],
   "source": [
    "plt.figure(figsize=(6,6)) #Ploting graph for Taxi Dist\n",
    "sns.distplot(house_sale['sqft_living'])\n",
    "plt.show()"
   ]
  },
  {
   "cell_type": "code",
   "execution_count": 60,
   "id": "4a61c6f2",
   "metadata": {},
   "outputs": [
    {
     "name": "stderr",
     "output_type": "stream",
     "text": [
      "E:\\anaconda\\lib\\site-packages\\seaborn\\distributions.py:2557: FutureWarning: `distplot` is a deprecated function and will be removed in a future version. Please adapt your code to use either `displot` (a figure-level function with similar flexibility) or `histplot` (an axes-level function for histograms).\n",
      "  warnings.warn(msg, FutureWarning)\n"
     ]
    },
    {
     "data": {
      "image/png": "[encoded data removed]",
      "text/plain": [
       "<Figure size 432x432 with 1 Axes>"
      ]
     },
     "metadata": {},
     "output_type": "display_data"
    }
   ],
   "source": [
    "plt.figure(figsize=(6,6))#Ploting graph for Market dist\n",
    "sns.distplot(house_sale['bedrooms'])\n",
    "plt.show()"
   ]
  },
  {
   "cell_type": "code",
   "execution_count": 61,
   "id": "fc884fee",
   "metadata": {},
   "outputs": [
    {
     "name": "stderr",
     "output_type": "stream",
     "text": [
      "E:\\anaconda\\lib\\site-packages\\seaborn\\distributions.py:2557: FutureWarning: `distplot` is a deprecated function and will be removed in a future version. Please adapt your code to use either `displot` (a figure-level function with similar flexibility) or `histplot` (an axes-level function for histograms).\n",
      "  warnings.warn(msg, FutureWarning)\n"
     ]
    },
    {
     "data": {
      "image/png": "[encoded data removed]",
      "text/plain": [
       "<Figure size 432x432 with 1 Axes>"
      ]
     },
     "metadata": {},
     "output_type": "display_data"
    }
   ],
   "source": [
    "plt.figure(figsize=(6,6))#Ploting graph for Price house\n",
    "sns.distplot(house_sale['price'])\n",
    "plt.show()"
   ]
  },
  {
   "cell_type": "code",
   "execution_count": 62,
   "id": "2f97c0bf",
   "metadata": {},
   "outputs": [
    {
     "data": {
      "text/plain": [
       "1    8633\n",
       "2    8624\n",
       "0    4356\n",
       "Name: Parking_type, dtype: int64"
      ]
     },
     "execution_count": 62,
     "metadata": {},
     "output_type": "execute_result"
    }
   ],
   "source": [
    "house_sale['Parking_type'].value_counts()#checking same type of words"
   ]
  },
  {
   "cell_type": "code",
   "execution_count": 63,
   "id": "b7615948",
   "metadata": {},
   "outputs": [
    {
     "data": {
      "text/html": [
       "<div>\n",
       "<style scoped>\n",
       "    .dataframe tbody tr th:only-of-type {\n",
       "        vertical-align: middle;\n",
       "    }\n",
       "\n",
       "    .dataframe tbody tr th {\n",
       "        vertical-align: top;\n",
       "    }\n",
       "\n",
       "    .dataframe thead th {\n",
       "        text-align: right;\n",
       "    }\n",
       "</style>\n",
       "<table border=\"1\" class=\"dataframe\">\n",
       "  <thead>\n",
       "    <tr style=\"text-align: right;\">\n",
       "      <th></th>\n",
       "      <th>id</th>\n",
       "      <th>date</th>\n",
       "      <th>price</th>\n",
       "      <th>bedrooms</th>\n",
       "      <th>bathrooms</th>\n",
       "      <th>sqft_living</th>\n",
       "      <th>sqft_lot</th>\n",
       "      <th>floors</th>\n",
       "      <th>Parking_type</th>\n",
       "      <th>condition</th>\n",
       "      <th>grade</th>\n",
       "      <th>sqft_above</th>\n",
       "      <th>sqft_basement</th>\n",
       "      <th>City_type</th>\n",
       "      <th>zipcode</th>\n",
       "      <th>lat</th>\n",
       "      <th>long</th>\n",
       "    </tr>\n",
       "  </thead>\n",
       "  <tbody>\n",
       "    <tr>\n",
       "      <th>0</th>\n",
       "      <td>7129300520</td>\n",
       "      <td>20141013T000000</td>\n",
       "      <td>221900</td>\n",
       "      <td>3</td>\n",
       "      <td>1.00</td>\n",
       "      <td>1180.0</td>\n",
       "      <td>5650.0</td>\n",
       "      <td>1.0</td>\n",
       "      <td>2</td>\n",
       "      <td>3</td>\n",
       "      <td>7.0</td>\n",
       "      <td>1180.0</td>\n",
       "      <td>0.0</td>\n",
       "      <td>1</td>\n",
       "      <td>98178</td>\n",
       "      <td>47.5112</td>\n",
       "      <td>-122.257</td>\n",
       "    </tr>\n",
       "    <tr>\n",
       "      <th>1</th>\n",
       "      <td>6414100192</td>\n",
       "      <td>20141209T000000</td>\n",
       "      <td>538000</td>\n",
       "      <td>3</td>\n",
       "      <td>2.25</td>\n",
       "      <td>2570.0</td>\n",
       "      <td>7242.0</td>\n",
       "      <td>2.0</td>\n",
       "      <td>1</td>\n",
       "      <td>3</td>\n",
       "      <td>7.0</td>\n",
       "      <td>2170.0</td>\n",
       "      <td>400.0</td>\n",
       "      <td>1</td>\n",
       "      <td>98125</td>\n",
       "      <td>47.7210</td>\n",
       "      <td>-122.319</td>\n",
       "    </tr>\n",
       "    <tr>\n",
       "      <th>2</th>\n",
       "      <td>5631500400</td>\n",
       "      <td>20150225T000000</td>\n",
       "      <td>180000</td>\n",
       "      <td>2</td>\n",
       "      <td>1.00</td>\n",
       "      <td>770.0</td>\n",
       "      <td>10000.0</td>\n",
       "      <td>1.0</td>\n",
       "      <td>1</td>\n",
       "      <td>3</td>\n",
       "      <td>6.0</td>\n",
       "      <td>770.0</td>\n",
       "      <td>0.0</td>\n",
       "      <td>0</td>\n",
       "      <td>98028</td>\n",
       "      <td>47.7379</td>\n",
       "      <td>-122.233</td>\n",
       "    </tr>\n",
       "    <tr>\n",
       "      <th>3</th>\n",
       "      <td>2487200875</td>\n",
       "      <td>20141209T000000</td>\n",
       "      <td>604000</td>\n",
       "      <td>4</td>\n",
       "      <td>3.00</td>\n",
       "      <td>1960.0</td>\n",
       "      <td>5000.0</td>\n",
       "      <td>1.0</td>\n",
       "      <td>0</td>\n",
       "      <td>5</td>\n",
       "      <td>7.0</td>\n",
       "      <td>1050.0</td>\n",
       "      <td>910.0</td>\n",
       "      <td>1</td>\n",
       "      <td>98136</td>\n",
       "      <td>47.5208</td>\n",
       "      <td>-122.393</td>\n",
       "    </tr>\n",
       "    <tr>\n",
       "      <th>4</th>\n",
       "      <td>1954400510</td>\n",
       "      <td>20150218T000000</td>\n",
       "      <td>510000</td>\n",
       "      <td>3</td>\n",
       "      <td>2.00</td>\n",
       "      <td>1680.0</td>\n",
       "      <td>8080.0</td>\n",
       "      <td>1.0</td>\n",
       "      <td>1</td>\n",
       "      <td>3</td>\n",
       "      <td>8.0</td>\n",
       "      <td>1680.0</td>\n",
       "      <td>0.0</td>\n",
       "      <td>1</td>\n",
       "      <td>98074</td>\n",
       "      <td>47.6168</td>\n",
       "      <td>-122.045</td>\n",
       "    </tr>\n",
       "  </tbody>\n",
       "</table>\n",
       "</div>"
      ],
      "text/plain": [
       "           id             date   price  bedrooms  bathrooms  sqft_living  \\\n",
       "0  7129300520  20141013T000000  221900         3       1.00       1180.0   \n",
       "1  6414100192  20141209T000000  538000         3       2.25       2570.0   \n",
       "2  5631500400  20150225T000000  180000         2       1.00        770.0   \n",
       "3  2487200875  20141209T000000  604000         4       3.00       1960.0   \n",
       "4  1954400510  20150218T000000  510000         3       2.00       1680.0   \n",
       "\n",
       "   sqft_lot  floors  Parking_type  condition  grade  sqft_above  \\\n",
       "0    5650.0     1.0             2          3    7.0      1180.0   \n",
       "1    7242.0     2.0             1          3    7.0      2170.0   \n",
       "2   10000.0     1.0             1          3    6.0       770.0   \n",
       "3    5000.0     1.0             0          5    7.0      1050.0   \n",
       "4    8080.0     1.0             1          3    8.0      1680.0   \n",
       "\n",
       "   sqft_basement  City_type  zipcode      lat     long  \n",
       "0            0.0          1    98178  47.5112 -122.257  \n",
       "1          400.0          1    98125  47.7210 -122.319  \n",
       "2            0.0          0    98028  47.7379 -122.233  \n",
       "3          910.0          1    98136  47.5208 -122.393  \n",
       "4            0.0          1    98074  47.6168 -122.045  "
      ]
     },
     "execution_count": 63,
     "metadata": {},
     "output_type": "execute_result"
    }
   ],
   "source": [
    "house_sale.head()#Top five entry are visible of the dataset"
   ]
  },
  {
   "cell_type": "code",
   "execution_count": 64,
   "id": "b78e24ef",
   "metadata": {},
   "outputs": [
    {
     "data": {
      "text/html": [
       "<div>\n",
       "<style scoped>\n",
       "    .dataframe tbody tr th:only-of-type {\n",
       "        vertical-align: middle;\n",
       "    }\n",
       "\n",
       "    .dataframe tbody tr th {\n",
       "        vertical-align: top;\n",
       "    }\n",
       "\n",
       "    .dataframe thead th {\n",
       "        text-align: right;\n",
       "    }\n",
       "</style>\n",
       "<table border=\"1\" class=\"dataframe\">\n",
       "  <thead>\n",
       "    <tr style=\"text-align: right;\">\n",
       "      <th></th>\n",
       "      <th>id</th>\n",
       "      <th>date</th>\n",
       "      <th>price</th>\n",
       "      <th>bedrooms</th>\n",
       "      <th>bathrooms</th>\n",
       "      <th>sqft_living</th>\n",
       "      <th>sqft_lot</th>\n",
       "      <th>floors</th>\n",
       "      <th>Parking_type</th>\n",
       "      <th>condition</th>\n",
       "      <th>grade</th>\n",
       "      <th>sqft_above</th>\n",
       "      <th>sqft_basement</th>\n",
       "      <th>City_type</th>\n",
       "      <th>zipcode</th>\n",
       "      <th>lat</th>\n",
       "      <th>long</th>\n",
       "    </tr>\n",
       "  </thead>\n",
       "  <tbody>\n",
       "    <tr>\n",
       "      <th>21608</th>\n",
       "      <td>263000018</td>\n",
       "      <td>20140521T000000</td>\n",
       "      <td>360000</td>\n",
       "      <td>3</td>\n",
       "      <td>2.50</td>\n",
       "      <td>1530.0</td>\n",
       "      <td>1131.0</td>\n",
       "      <td>3.0</td>\n",
       "      <td>2</td>\n",
       "      <td>3</td>\n",
       "      <td>8.0</td>\n",
       "      <td>1530.0</td>\n",
       "      <td>0.0</td>\n",
       "      <td>0</td>\n",
       "      <td>98103</td>\n",
       "      <td>47.6993</td>\n",
       "      <td>-122.346</td>\n",
       "    </tr>\n",
       "    <tr>\n",
       "      <th>21609</th>\n",
       "      <td>6600060120</td>\n",
       "      <td>20150223T000000</td>\n",
       "      <td>400000</td>\n",
       "      <td>4</td>\n",
       "      <td>2.50</td>\n",
       "      <td>2310.0</td>\n",
       "      <td>5813.0</td>\n",
       "      <td>2.0</td>\n",
       "      <td>1</td>\n",
       "      <td>3</td>\n",
       "      <td>8.0</td>\n",
       "      <td>2310.0</td>\n",
       "      <td>0.0</td>\n",
       "      <td>1</td>\n",
       "      <td>98146</td>\n",
       "      <td>47.5107</td>\n",
       "      <td>-122.362</td>\n",
       "    </tr>\n",
       "    <tr>\n",
       "      <th>21610</th>\n",
       "      <td>1523300141</td>\n",
       "      <td>20140623T000000</td>\n",
       "      <td>402101</td>\n",
       "      <td>2</td>\n",
       "      <td>0.75</td>\n",
       "      <td>1020.0</td>\n",
       "      <td>1350.0</td>\n",
       "      <td>2.0</td>\n",
       "      <td>1</td>\n",
       "      <td>3</td>\n",
       "      <td>7.0</td>\n",
       "      <td>1020.0</td>\n",
       "      <td>0.0</td>\n",
       "      <td>2</td>\n",
       "      <td>98144</td>\n",
       "      <td>47.5944</td>\n",
       "      <td>-122.299</td>\n",
       "    </tr>\n",
       "    <tr>\n",
       "      <th>21611</th>\n",
       "      <td>291310100</td>\n",
       "      <td>20150116T000000</td>\n",
       "      <td>400000</td>\n",
       "      <td>3</td>\n",
       "      <td>2.50</td>\n",
       "      <td>1600.0</td>\n",
       "      <td>2388.0</td>\n",
       "      <td>2.0</td>\n",
       "      <td>1</td>\n",
       "      <td>3</td>\n",
       "      <td>8.0</td>\n",
       "      <td>1600.0</td>\n",
       "      <td>0.0</td>\n",
       "      <td>1</td>\n",
       "      <td>98027</td>\n",
       "      <td>47.5345</td>\n",
       "      <td>-122.069</td>\n",
       "    </tr>\n",
       "    <tr>\n",
       "      <th>21612</th>\n",
       "      <td>1523300157</td>\n",
       "      <td>20141015T000000</td>\n",
       "      <td>325000</td>\n",
       "      <td>2</td>\n",
       "      <td>0.75</td>\n",
       "      <td>1020.0</td>\n",
       "      <td>1076.0</td>\n",
       "      <td>2.0</td>\n",
       "      <td>2</td>\n",
       "      <td>3</td>\n",
       "      <td>7.0</td>\n",
       "      <td>1020.0</td>\n",
       "      <td>0.0</td>\n",
       "      <td>2</td>\n",
       "      <td>98144</td>\n",
       "      <td>47.5941</td>\n",
       "      <td>-122.299</td>\n",
       "    </tr>\n",
       "  </tbody>\n",
       "</table>\n",
       "</div>"
      ],
      "text/plain": [
       "               id             date   price  bedrooms  bathrooms  sqft_living  \\\n",
       "21608   263000018  20140521T000000  360000         3       2.50       1530.0   \n",
       "21609  6600060120  20150223T000000  400000         4       2.50       2310.0   \n",
       "21610  1523300141  20140623T000000  402101         2       0.75       1020.0   \n",
       "21611   291310100  20150116T000000  400000         3       2.50       1600.0   \n",
       "21612  1523300157  20141015T000000  325000         2       0.75       1020.0   \n",
       "\n",
       "       sqft_lot  floors  Parking_type  condition  grade  sqft_above  \\\n",
       "21608    1131.0     3.0             2          3    8.0      1530.0   \n",
       "21609    5813.0     2.0             1          3    8.0      2310.0   \n",
       "21610    1350.0     2.0             1          3    7.0      1020.0   \n",
       "21611    2388.0     2.0             1          3    8.0      1600.0   \n",
       "21612    1076.0     2.0             2          3    7.0      1020.0   \n",
       "\n",
       "       sqft_basement  City_type  zipcode      lat     long  \n",
       "21608            0.0          0    98103  47.6993 -122.346  \n",
       "21609            0.0          1    98146  47.5107 -122.362  \n",
       "21610            0.0          2    98144  47.5944 -122.299  \n",
       "21611            0.0          1    98027  47.5345 -122.069  \n",
       "21612            0.0          2    98144  47.5941 -122.299  "
      ]
     },
     "execution_count": 64,
     "metadata": {},
     "output_type": "execute_result"
    }
   ],
   "source": [
    "house_sale.tail()"
   ]
  },
  {
   "cell_type": "code",
   "execution_count": null,
   "id": "9dafcace",
   "metadata": {},
   "outputs": [],
   "source": []
  },
  {
   "cell_type": "code",
   "execution_count": 65,
   "id": "42956b23",
   "metadata": {},
   "outputs": [],
   "source": [
    "X = house_sale.drop(columns=['id','date','lat','long','zipcode','price'],axis=2)#droping  house price column from the dataset\n",
    "Y = house_sale['price']#putting  House price(output) column in Y axis"
   ]
  },
  {
   "cell_type": "code",
   "execution_count": 66,
   "id": "1bd1cd2e",
   "metadata": {},
   "outputs": [
    {
     "name": "stdout",
     "output_type": "stream",
     "text": [
      "       bedrooms  bathrooms  sqft_living  sqft_lot  floors  Parking_type  \\\n",
      "0             3       1.00       1180.0    5650.0     1.0             2   \n",
      "1             3       2.25       2570.0    7242.0     2.0             1   \n",
      "2             2       1.00        770.0   10000.0     1.0             1   \n",
      "3             4       3.00       1960.0    5000.0     1.0             0   \n",
      "4             3       2.00       1680.0    8080.0     1.0             1   \n",
      "...         ...        ...          ...       ...     ...           ...   \n",
      "21608         3       2.50       1530.0    1131.0     3.0             2   \n",
      "21609         4       2.50       2310.0    5813.0     2.0             1   \n",
      "21610         2       0.75       1020.0    1350.0     2.0             1   \n",
      "21611         3       2.50       1600.0    2388.0     2.0             1   \n",
      "21612         2       0.75       1020.0    1076.0     2.0             2   \n",
      "\n",
      "       condition  grade  sqft_above  sqft_basement  City_type  \n",
      "0              3    7.0      1180.0            0.0          1  \n",
      "1              3    7.0      2170.0          400.0          1  \n",
      "2              3    6.0       770.0            0.0          0  \n",
      "3              5    7.0      1050.0          910.0          1  \n",
      "4              3    8.0      1680.0            0.0          1  \n",
      "...          ...    ...         ...            ...        ...  \n",
      "21608          3    8.0      1530.0            0.0          0  \n",
      "21609          3    8.0      2310.0            0.0          1  \n",
      "21610          3    7.0      1020.0            0.0          2  \n",
      "21611          3    8.0      1600.0            0.0          1  \n",
      "21612          3    7.0      1020.0            0.0          2  \n",
      "\n",
      "[21613 rows x 11 columns]\n"
     ]
    }
   ],
   "source": [
    "print(X)"
   ]
  },
  {
   "cell_type": "code",
   "execution_count": 67,
   "id": "a9c9bbb4",
   "metadata": {},
   "outputs": [
    {
     "name": "stdout",
     "output_type": "stream",
     "text": [
      "0        221900\n",
      "1        538000\n",
      "2        180000\n",
      "3        604000\n",
      "4        510000\n",
      "          ...  \n",
      "21608    360000\n",
      "21609    400000\n",
      "21610    402101\n",
      "21611    400000\n",
      "21612    325000\n",
      "Name: price, Length: 21613, dtype: int64\n"
     ]
    }
   ],
   "source": [
    "print(Y)"
   ]
  },
  {
   "cell_type": "code",
   "execution_count": 68,
   "id": "581a4393",
   "metadata": {},
   "outputs": [],
   "source": [
    "#Evaluation"
   ]
  },
  {
   "cell_type": "code",
   "execution_count": 69,
   "id": "6bc61beb",
   "metadata": {},
   "outputs": [],
   "source": [
    "X_train, X_test, Y_train, Y_test = train_test_split(X, Y, test_size=0.2, random_state=1)#dividing X and Y into train and test data set"
   ]
  },
  {
   "cell_type": "code",
   "execution_count": 70,
   "id": "ffcf11b5",
   "metadata": {},
   "outputs": [
    {
     "name": "stdout",
     "output_type": "stream",
     "text": [
      "(21613, 11) (17290, 11) (4323, 11)\n"
     ]
    }
   ],
   "source": [
    "print(X.shape, X_train.shape, X_test.shape)"
   ]
  },
  {
   "cell_type": "code",
   "execution_count": 71,
   "id": "075deeb7",
   "metadata": {},
   "outputs": [],
   "source": [
    "regressor = XGBRegressor()#calling XGBRegressor."
   ]
  },
  {
   "cell_type": "code",
   "execution_count": 72,
   "id": "893a7f3f",
   "metadata": {},
   "outputs": [
    {
     "data": {
      "text/plain": [
       "XGBRegressor(base_score=0.5, booster='gbtree', colsample_bylevel=1,\n",
       "             colsample_bynode=1, colsample_bytree=1, gamma=0, gpu_id=-1,\n",
       "             importance_type='gain', interaction_constraints='',\n",
       "             learning_rate=0.300000012, max_delta_step=0, max_depth=6,\n",
       "             min_child_weight=1, missing=nan, monotone_constraints='()',\n",
       "             n_estimators=100, n_jobs=8, num_parallel_tree=1, random_state=0,\n",
       "             reg_alpha=0, reg_lambda=1, scale_pos_weight=1, subsample=1,\n",
       "             tree_method='exact', validate_parameters=1, verbosity=None)"
      ]
     },
     "execution_count": 72,
     "metadata": {},
     "output_type": "execute_result"
    }
   ],
   "source": [
    "regressor.fit(X_train, Y_train)#fitting training data set"
   ]
  },
  {
   "cell_type": "code",
   "execution_count": 73,
   "id": "67991a02",
   "metadata": {},
   "outputs": [],
   "source": [
    "training_data_prediction = regressor.predict(X_train)# check prediction of train data set"
   ]
  },
  {
   "cell_type": "code",
   "execution_count": 74,
   "id": "ef5e18ad",
   "metadata": {},
   "outputs": [],
   "source": [
    "r2_train = metrics.r2_score(Y_train, training_data_prediction)# find r2 scored using actual output and prediction"
   ]
  },
  {
   "cell_type": "code",
   "execution_count": 75,
   "id": "19785556",
   "metadata": {},
   "outputs": [
    {
     "name": "stdout",
     "output_type": "stream",
     "text": [
      "R Squared value =  0.8613913740679403\n"
     ]
    }
   ],
   "source": [
    "print('R Squared value = ', r2_train)"
   ]
  },
  {
   "cell_type": "code",
   "execution_count": 76,
   "id": "2fe4bbc0",
   "metadata": {},
   "outputs": [],
   "source": [
    "test_data_prediction = regressor.predict(X_test)# check prediction of test data set"
   ]
  },
  {
   "cell_type": "code",
   "execution_count": 77,
   "id": "146d2d59",
   "metadata": {},
   "outputs": [],
   "source": [
    "r2_test = metrics.r2_score(Y_test, test_data_prediction)#find r2 scored using actual output and prediction"
   ]
  },
  {
   "cell_type": "code",
   "execution_count": 78,
   "id": "6f1e6b66",
   "metadata": {},
   "outputs": [
    {
     "name": "stdout",
     "output_type": "stream",
     "text": [
      "R Squared value =  0.6642923100912913\n"
     ]
    }
   ],
   "source": [
    "print('R Squared value = ', r2_test)"
   ]
  },
  {
   "cell_type": "code",
   "execution_count": 79,
   "id": "d32eaeda",
   "metadata": {},
   "outputs": [
    {
     "name": "stdout",
     "output_type": "stream",
     "text": [
      "[ 677061.56  380729.22 1034103.56  516328.16  317130.44]\n"
     ]
    }
   ],
   "source": [
    "print(test_data_prediction[0:5])#expected sales prediction"
   ]
  },
  {
   "cell_type": "code",
   "execution_count": 80,
   "id": "78123279",
   "metadata": {},
   "outputs": [
    {
     "data": {
      "text/html": [
       "<div>\n",
       "<style scoped>\n",
       "    .dataframe tbody tr th:only-of-type {\n",
       "        vertical-align: middle;\n",
       "    }\n",
       "\n",
       "    .dataframe tbody tr th {\n",
       "        vertical-align: top;\n",
       "    }\n",
       "\n",
       "    .dataframe thead th {\n",
       "        text-align: right;\n",
       "    }\n",
       "</style>\n",
       "<table border=\"1\" class=\"dataframe\">\n",
       "  <thead>\n",
       "    <tr style=\"text-align: right;\">\n",
       "      <th></th>\n",
       "      <th>bedrooms</th>\n",
       "      <th>bathrooms</th>\n",
       "      <th>sqft_living</th>\n",
       "      <th>sqft_lot</th>\n",
       "      <th>floors</th>\n",
       "      <th>Parking_type</th>\n",
       "      <th>condition</th>\n",
       "      <th>grade</th>\n",
       "      <th>sqft_above</th>\n",
       "      <th>sqft_basement</th>\n",
       "      <th>City_type</th>\n",
       "    </tr>\n",
       "  </thead>\n",
       "  <tbody>\n",
       "    <tr>\n",
       "      <th>15544</th>\n",
       "      <td>4</td>\n",
       "      <td>2.75</td>\n",
       "      <td>2790.0</td>\n",
       "      <td>6600.0</td>\n",
       "      <td>2.0</td>\n",
       "      <td>1</td>\n",
       "      <td>3</td>\n",
       "      <td>9.0</td>\n",
       "      <td>2790.0</td>\n",
       "      <td>0.0</td>\n",
       "      <td>1</td>\n",
       "    </tr>\n",
       "    <tr>\n",
       "      <th>17454</th>\n",
       "      <td>3</td>\n",
       "      <td>2.25</td>\n",
       "      <td>1630.0</td>\n",
       "      <td>6449.0</td>\n",
       "      <td>1.0</td>\n",
       "      <td>1</td>\n",
       "      <td>3</td>\n",
       "      <td>7.0</td>\n",
       "      <td>1310.0</td>\n",
       "      <td>320.0</td>\n",
       "      <td>1</td>\n",
       "    </tr>\n",
       "    <tr>\n",
       "      <th>21548</th>\n",
       "      <td>2</td>\n",
       "      <td>1.50</td>\n",
       "      <td>2370.0</td>\n",
       "      <td>184231.0</td>\n",
       "      <td>2.0</td>\n",
       "      <td>1</td>\n",
       "      <td>3</td>\n",
       "      <td>11.0</td>\n",
       "      <td>2370.0</td>\n",
       "      <td>0.0</td>\n",
       "      <td>1</td>\n",
       "    </tr>\n",
       "    <tr>\n",
       "      <th>3427</th>\n",
       "      <td>4</td>\n",
       "      <td>2.50</td>\n",
       "      <td>2270.0</td>\n",
       "      <td>7665.0</td>\n",
       "      <td>2.0</td>\n",
       "      <td>2</td>\n",
       "      <td>3</td>\n",
       "      <td>9.0</td>\n",
       "      <td>2270.0</td>\n",
       "      <td>0.0</td>\n",
       "      <td>0</td>\n",
       "    </tr>\n",
       "    <tr>\n",
       "      <th>8809</th>\n",
       "      <td>3</td>\n",
       "      <td>1.00</td>\n",
       "      <td>1430.0</td>\n",
       "      <td>7599.0</td>\n",
       "      <td>1.5</td>\n",
       "      <td>1</td>\n",
       "      <td>4</td>\n",
       "      <td>6.0</td>\n",
       "      <td>1010.0</td>\n",
       "      <td>420.0</td>\n",
       "      <td>2</td>\n",
       "    </tr>\n",
       "  </tbody>\n",
       "</table>\n",
       "</div>"
      ],
      "text/plain": [
       "       bedrooms  bathrooms  sqft_living  sqft_lot  floors  Parking_type  \\\n",
       "15544         4       2.75       2790.0    6600.0     2.0             1   \n",
       "17454         3       2.25       1630.0    6449.0     1.0             1   \n",
       "21548         2       1.50       2370.0  184231.0     2.0             1   \n",
       "3427          4       2.50       2270.0    7665.0     2.0             2   \n",
       "8809          3       1.00       1430.0    7599.0     1.5             1   \n",
       "\n",
       "       condition  grade  sqft_above  sqft_basement  City_type  \n",
       "15544          3    9.0      2790.0            0.0          1  \n",
       "17454          3    7.0      1310.0          320.0          1  \n",
       "21548          3   11.0      2370.0            0.0          1  \n",
       "3427           3    9.0      2270.0            0.0          0  \n",
       "8809           4    6.0      1010.0          420.0          2  "
      ]
     },
     "execution_count": 80,
     "metadata": {},
     "output_type": "execute_result"
    }
   ],
   "source": [
    "X_test.head()"
   ]
  },
  {
   "cell_type": "code",
   "execution_count": 81,
   "id": "4c3baed4",
   "metadata": {},
   "outputs": [
    {
     "data": {
      "text/plain": [
       "15544     459000\n",
       "17454     445000\n",
       "21548    1060000\n",
       "3427      732350\n",
       "8809      235000\n",
       "Name: price, dtype: int64"
      ]
     },
     "execution_count": 81,
     "metadata": {},
     "output_type": "execute_result"
    }
   ],
   "source": [
    "Y_test.head()#actual sales"
   ]
  },
  {
   "cell_type": "code",
   "execution_count": 82,
   "id": "aea26ee9",
   "metadata": {},
   "outputs": [],
   "source": [
    "from sklearn.linear_model import Ridge"
   ]
  },
  {
   "cell_type": "code",
   "execution_count": 83,
   "id": "a4a4c631",
   "metadata": {},
   "outputs": [],
   "source": [
    "ridge_reg = Ridge(alpha=50, max_iter=100, tol=0.1)\n"
   ]
  },
  {
   "cell_type": "code",
   "execution_count": 84,
   "id": "5a1409a6",
   "metadata": {},
   "outputs": [
    {
     "data": {
      "text/plain": [
       "Ridge(alpha=50, max_iter=100, tol=0.1)"
      ]
     },
     "execution_count": 84,
     "metadata": {},
     "output_type": "execute_result"
    }
   ],
   "source": [
    "ridge_reg.fit(X_train, Y_train)"
   ]
  },
  {
   "cell_type": "code",
   "execution_count": 85,
   "id": "e8d9e6e1",
   "metadata": {},
   "outputs": [
    {
     "data": {
      "text/plain": [
       "0.5597127124445646"
      ]
     },
     "execution_count": 85,
     "metadata": {},
     "output_type": "execute_result"
    }
   ],
   "source": [
    "ridge_reg.score(X_train, Y_train)"
   ]
  },
  {
   "cell_type": "code",
   "execution_count": 86,
   "id": "7319fe91",
   "metadata": {},
   "outputs": [
    {
     "data": {
      "text/plain": [
       "0.5622198860217431"
      ]
     },
     "execution_count": 86,
     "metadata": {},
     "output_type": "execute_result"
    }
   ],
   "source": [
    "ridge_reg.score(X_test, Y_test)"
   ]
  }
 ],
 "metadata": {
  "kernelspec": {
   "display_name": "Python 3",
   "language": "python",
   "name": "python3"
  },
  "language_info": {
   "codemirror_mode": {
    "name": "ipython",
    "version": 3
   },
   "file_extension": ".py",
   "mimetype": "text/x-python",
   "name": "python",
   "nbconvert_exporter": "python",
   "pygments_lexer": "ipython3",
   "version": "3.8.8"
  }
 },
 "nbformat": 4,
 "nbformat_minor": 5
}
